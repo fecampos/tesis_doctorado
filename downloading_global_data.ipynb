{
 "cells": [
  {
   "cell_type": "code",
   "execution_count": 1,
   "id": "b8add4be",
   "metadata": {},
   "outputs": [
    {
     "name": "stderr",
     "output_type": "stream",
     "text": [
      "2022-12-01 20:42:02,726 - distributed.diskutils - INFO - Found stale lock file and directory '/HOME/users/fcampos/examples/dask-worker-space/worker-p4lpev02', purging\n",
      "2022-12-01 20:42:02,726 - distributed.diskutils - INFO - Found stale lock file and directory '/HOME/users/fcampos/examples/dask-worker-space/worker-l037chsw', purging\n"
     ]
    }
   ],
   "source": [
    "import xmitgcm.llcreader as llcreader\n",
    "import numpy as np\n",
    "import xarray as xr\n",
    "import matplotlib.pyplot as plt\n",
    "%matplotlib inline\n",
    "import xgcm\n",
    "from mpl_toolkits.basemap import Basemap, cm, shiftgrid\n",
    "from numpy import pi\n",
    "\n",
    "from dask.distributed import Client, LocalCluster\n",
    "cluster = LocalCluster(n_workers=2, threads_per_worker=16)\n",
    "client = Client(cluster)"
   ]
  },
  {
   "cell_type": "code",
   "execution_count": 2,
   "id": "0cdc56f0",
   "metadata": {},
   "outputs": [],
   "source": [
    "model = llcreader.ECCOPortalLLC2160Model()"
   ]
  },
  {
   "cell_type": "code",
   "execution_count": 3,
   "id": "56f22472",
   "metadata": {},
   "outputs": [],
   "source": [
    "ds = model.get_dataset(varnames=['U','V','oceTAUX','oceTAUY'], k_levels=[0], type='latlon',\n",
    "                        read_grid=True)\n",
    "ds = ds.sel(time=slice(\"2012-01-01\", \"2013-01-01\"))"
   ]
  },
  {
   "cell_type": "code",
   "execution_count": null,
   "id": "20fb5645",
   "metadata": {},
   "outputs": [
    {
     "name": "stdout",
     "output_type": "stream",
     "text": [
      "2012-01-01T00:00:00.000000000\n",
      "2012-01-01T01:00:00.000000000\n"
     ]
    }
   ],
   "source": [
    "t = ds.time\n",
    "j = 0\n",
    "for i in t:\n",
    "    print(str(ds.time[j].values))\n",
    "    ti=str(ds.time[j].values)\n",
    "    ti=ti[0:4]+ti[5:7]+ti[8:10]+\"T\"+ti[11:13]+ti[14:16]+ti[17:19]    \n",
    "    ds.U.squeeze().isel(time=0).to_netcdf(\"/HOME/users/fcampos/outputs/global/U/U_8640x6480_\"+ti+\".nc\")\n",
    "    ds.V.squeeze().isel(time=0).to_netcdf(\"/HOME/users/fcampos/outputs/global/V/V_8640x6480_\"+ti+\".nc\")\n",
    "    ds.oceTAUX.squeeze().isel(time=0).to_netcdf(\"/HOME/users/fcampos/outputs/global/TAUX/TAUX_8640x6480_\"+ti+\".nc\")\n",
    "    ds.oceTAUY.squeeze().isel(time=0).to_netcdf(\"/HOME/users/fcampos/outputs/global/TAUY/TAUY_8640x6480_\"+ti+\".nc\")\n",
    "    j = j+1\n"
   ]
  }
 ],
 "metadata": {
  "kernelspec": {
   "display_name": "Python 3 (ipykernel)",
   "language": "python",
   "name": "python3"
  },
  "language_info": {
   "codemirror_mode": {
    "name": "ipython",
    "version": 3
   },
   "file_extension": ".py",
   "mimetype": "text/x-python",
   "name": "python",
   "nbconvert_exporter": "python",
   "pygments_lexer": "ipython3",
   "version": "3.9.12"
  }
 },
 "nbformat": 4,
 "nbformat_minor": 5
}
