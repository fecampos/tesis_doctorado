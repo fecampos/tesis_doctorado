{
 "cells": [
  {
   "cell_type": "code",
   "execution_count": 1,
   "id": "525dc2d1",
   "metadata": {},
   "outputs": [
    {
     "name": "stderr",
     "output_type": "stream",
     "text": [
      "/HOME/users/fcampos/miniconda3/lib/python3.9/site-packages/distributed/node.py:177: UserWarning: Port 8787 is already in use.\n",
      "Perhaps you already have a cluster running?\n",
      "Hosting the HTTP server on port 42480 instead\n",
      "  warnings.warn(\n",
      "2022-12-29 04:58:48,479 - distributed.diskutils - INFO - Found stale lock file and directory '/HOME/users/fcampos/scripts/dask-worker-space/worker-rw7hvxbb', purging\n"
     ]
    }
   ],
   "source": [
    "import xarray as xr\n",
    "import numpy as np\n",
    "import glob \n",
    "import xgcm\n",
    "import matplotlib.pyplot as plt\n",
    "import matplotlib.colors as colors\n",
    "from mpl_toolkits.basemap import Basemap, cm, shiftgrid\n",
    "import dask.array as da\n",
    "\n",
    "from dask.distributed import Client, LocalCluster\n",
    "cluster = LocalCluster(n_workers=3, threads_per_worker=20)\n",
    "client = Client(cluster)"
   ]
  },
  {
   "cell_type": "code",
   "execution_count": 2,
   "id": "c7f1caeb",
   "metadata": {},
   "outputs": [],
   "source": [
    "uname = \"/HOME/users/fcampos/outputs/global/U/\"\n",
    "vname = \"/HOME/users/fcampos/outputs/global/V/\"\n",
    "gridname = \"/HOME/users/fcampos/outputs/global/grid/\"\n",
    "nx, ny = 8640, 6480\n",
    "\n",
    "XC = np.memmap(gridname+'XC.data',dtype='>f4',shape=(ny,nx),mode='r+')\n",
    "YC = np.memmap(gridname+'YC.data',dtype='>f4',shape=(ny,nx),mode='r+')\n",
    "XG = np.memmap(gridname+'XG.data',dtype='>f4',shape=(ny,nx),mode='r+')\n",
    "YG = np.memmap(gridname+'YG.data',dtype='>f4',shape=(ny,nx),mode='r+')\n",
    "dxC = np.memmap(gridname+'dxC.data',dtype='>f4',shape=(ny,nx),mode='r+')\n",
    "dyC = np.memmap(gridname+'dyC.data',dtype='>f4',shape=(ny,nx),mode='r+')\n",
    "dxG = np.memmap(gridname+'dxG.data',dtype='>f4',shape=(ny,nx),mode='r+')\n",
    "dyG = np.memmap(gridname+'dyG.data',dtype='>f4',shape=(ny,nx),mode='r+')\n",
    "drF = np.memmap(gridname+'drF.data',dtype='>f4',shape=(ny,nx),mode='r+')\n",
    "rAZ = np.memmap(gridname+'rAz.data',dtype='>f4',shape=(ny,nx),mode='r+')\n",
    "rA = np.memmap(gridname+'rA.data',dtype='>f4',shape=(ny,nx),mode='r+')\n",
    "hfacs=np.memmap(gridname+'hFacS.data',dtype='>f4',shape=(ny,nx),mode='r+')\n",
    "hfacw=np.memmap(gridname+'hFacW.data',dtype='>f4',shape=(ny,nx),mode='r+')\n",
    "hfacc=np.memmap(gridname+'hFacC.data',dtype='>f4',shape=(ny,nx),mode='r+')\n",
    "\n",
    "coords={\n",
    "    \"i\": ([\"i\"], np.arange(nx), {\"axis\": \"X\"}, ),\n",
    "    \"j\": ([\"j\"], np.arange(ny), {\"axis\": \"Y\"}, ), \n",
    "    \"i_g\": ([\"i_g\"], np.arange(nx), {\"axis\": \"X\", \"c_grid_axis_shift\": -0.5}, ),\n",
    "    \"j_g\": ([\"j_g\"], np.arange(ny), {\"axis\": \"Y\", \"c_grid_axis_shift\": -0.5}, ),\n",
    "    \"XC\": ([\"j\", \"i\"], XC, ),\n",
    "    \"XG\": ([\"j_g\", \"i_g\"], XG, ),\n",
    "    \"YC\": ([\"j\", \"i\"], YC, ),\n",
    "    \"YG\": ([\"j_g\", \"i_g\"], YG, ),\n",
    "    \"dxC\": ([\"j\", \"i_g\"], dxC, ),\n",
    "    \"dyC\": ([\"j_g\", \"i\"], dyC, ),    \n",
    "    \"dxG\": ([\"j_g\", \"i\"], dxG, ),\n",
    "    \"dyG\": ([\"j\", \"i_g\"], dyG, ),    \n",
    "    \"rAz\": ([\"j_g\", \"i_g\"], rAZ, ),\n",
    "    \"rA\": ([\"j\", \"i\"], rA, ),    \n",
    "    \"hFacS\": ([\"j_g\", \"i\"], hfacs, ),\n",
    "    \"hFacW\": ([\"j\", \"i_g\"], hfacw, ),\n",
    "    \"hFacC\": ([\"j\", \"i\"], hfacc, ),\n",
    "    }"
   ]
  },
  {
   "cell_type": "code",
   "execution_count": 3,
   "id": "cc231b87",
   "metadata": {},
   "outputs": [],
   "source": [
    "uf = np.sort(glob.glob(uname+'jfm/U_8640x6480_201201*'))\n",
    "vf = np.sort(glob.glob(vname+'jfm/V_8640x6480_201201*'))\n",
    "\n",
    "nt=len(uf)\n",
    "\n",
    "u = da.zeros((nt, ny, nx), chunks=(24, 2160, 2160))\n",
    "v = da.zeros((nt, ny, nx), chunks=(24, 2160, 2160))\n",
    "\n",
    "for i in range(nt):\n",
    "    u[i,:,:] = np.squeeze(np.memmap(uf[i],dtype='>f4',shape=(ny,nx),mode='r+'))\n",
    "    v[i,:,:] = np.squeeze(np.memmap(vf[i],dtype='>f4',shape=(ny,nx),mode='r+'))\n",
    "\n",
    "data_vars = dict(    \n",
    "    u = ([\"time\",\"j\",\"i_g\"], u, {\"units\":\"m/s\"}),\n",
    "    v = ([\"time\",\"j_g\",\"i\"], v, {\"units\":\"m/s\"})\n",
    ")\n",
    "\n",
    "del u, v, uf, vf\n",
    "\n",
    "ds = xr.Dataset(data_vars=data_vars, \n",
    "                coords=coords, \n",
    "                )"
   ]
  },
  {
   "cell_type": "code",
   "execution_count": 4,
   "id": "1cb6e9ed",
   "metadata": {},
   "outputs": [],
   "source": [
    "grid = xgcm.Grid(ds, periodic=[\"X\", \"Y\"])\n",
    "ke = 0.5*(grid.interp((ds.u*ds.hFacW)**2, 'X') + grid.interp((ds.v*ds.hFacS)**2, 'Y'))\n",
    "ke_u = grid.interp(ke, \"X\")\n",
    "ke_v = grid.interp(ke, \"Y\")\n",
    "advx = ke_u * ds.u * ds.dyG * ds.hFacW \n",
    "advy = ke_v * ds.v * ds.dxG * ds.hFacS\n",
    "volume = ds.hFacC * ds.rA\n",
    "KE_adv = np.squeeze((grid.diff(advx, \"X\") + grid.diff(advy, \"Y\")) /  volume)"
   ]
  },
  {
   "cell_type": "code",
   "execution_count": null,
   "id": "c5e0c074",
   "metadata": {
    "scrolled": false
   },
   "outputs": [
    {
     "name": "stderr",
     "output_type": "stream",
     "text": [
      "2022-12-29 05:56:24,628 - distributed.nanny - WARNING - Restarting worker\n"
     ]
    }
   ],
   "source": [
    "(KE_adv**2).sum(axis=0).to_netcdf(\"/HOME/users/fcampos/outputs/01.nc\")"
   ]
  },
  {
   "cell_type": "code",
   "execution_count": null,
   "id": "1f2c117c",
   "metadata": {},
   "outputs": [],
   "source": [
    "#(KE_adv.mean(axis=0)*86400).plot(vmin=-5e-1, vmax=5e-1, cmap=\"PiYG\", size=8)\n",
    "#plt.tight_layout()"
   ]
  }
 ],
 "metadata": {
  "kernelspec": {
   "display_name": "Python 3 (ipykernel)",
   "language": "python",
   "name": "python3"
  },
  "language_info": {
   "codemirror_mode": {
    "name": "ipython",
    "version": 3
   },
   "file_extension": ".py",
   "mimetype": "text/x-python",
   "name": "python",
   "nbconvert_exporter": "python",
   "pygments_lexer": "ipython3",
   "version": "3.9.12"
  }
 },
 "nbformat": 4,
 "nbformat_minor": 5
}
