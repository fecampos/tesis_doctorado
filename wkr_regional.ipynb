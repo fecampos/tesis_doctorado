{
 "cells": [
  {
   "cell_type": "code",
   "execution_count": 1,
   "id": "031037b8",
   "metadata": {},
   "outputs": [],
   "source": [
    "# written by Fernando Campos \n",
    "# fcampos@cicese.edu.mx\n",
    "\n",
    "import xarray as xr\n",
    "import numpy as np\n",
    "import glob \n",
    "import xgcm\n",
    "import matplotlib.pyplot as plt\n",
    "import matplotlib.colors as colors\n",
    "from mpl_toolkits.basemap import Basemap, cm, shiftgrid\n",
    "import xesmf as xe\n",
    "from scipy import signal\n",
    "\n",
    "from dask.distributed import Client, LocalCluster\n",
    "cluster = LocalCluster(n_workers=3, threads_per_worker=16)\n",
    "client = Client(cluster)\n",
    "from dask import delayed"
   ]
  },
  {
   "cell_type": "code",
   "execution_count": 20,
   "id": "5e9cba72",
   "metadata": {},
   "outputs": [],
   "source": [
    "season = \"jas\"\n",
    "season_title = \"Jul-Aug-Sep\""
   ]
  },
  {
   "cell_type": "code",
   "execution_count": 21,
   "id": "0d90ed0e",
   "metadata": {},
   "outputs": [],
   "source": [
    "ds0 = xr.open_mfdataset(\"/HOME/users/fcampos/outputs/mask.nc\")\n",
    "dr0 = xr.open_mfdataset(\n",
    "    np.hstack([glob.glob(\"/HOME/users/fcampos/outputs/global/Ro/\"+season+\"/Ro_8640x6480_2012*.nc\"),\n",
    "               glob.glob(\"/HOME/users/fcampos/outputs/global/ke/\"+season+\"/ke_8640x6480_2012*.nc\")]),\n",
    "                       parallel=True, data_vars=\"different\")"
   ]
  },
  {
   "cell_type": "markdown",
   "id": "14e84e5b",
   "metadata": {},
   "source": [
    "# Gulf Stream"
   ]
  },
  {
   "cell_type": "code",
   "execution_count": null,
   "id": "8829ccd9",
   "metadata": {},
   "outputs": [],
   "source": [
    "name = \"Gulf Stream\"\n",
    "name_res = \"GS\"\n",
    "\n",
    "ds = ds0.isel(i=slice(8000,8400), j=slice(4700,5150), i_g=slice(8000,8400), j_g=slice(4700,5150))\n",
    "dr = dr0.isel(i=slice(8000,8400), j=slice(4700,5150))\n",
    "\n",
    "dr.coords[\"XC\"] = ds.XC\n",
    "dr.coords[\"YC\"] = ds.YC\n",
    "dr = dr.rename({\"XC\": \"lon\", \"YC\": \"lat\"})\n",
    "\n",
    "ds_out = xr.Dataset(\n",
    "    {\n",
    "        \"lat\": ([\"lat\"], np.arange(30, 41, 0.04)),\n",
    "        \"lon\": ([\"lon\"], np.arange(-60,-49, 0.04)),\n",
    "    }\n",
    ")\n",
    "regridder = xe.Regridder(dr, ds_out, \"bilinear\")\n",
    "ds_out = regridder(dr)\n",
    "del ds, dr"
   ]
  },
  {
   "cell_type": "markdown",
   "id": "0a98b65e",
   "metadata": {},
   "source": [
    "# North Atlantic"
   ]
  },
  {
   "cell_type": "code",
   "execution_count": 22,
   "id": "40aaa647",
   "metadata": {},
   "outputs": [],
   "source": [
    "name = \"North Atlantic\"\n",
    "name_res = \"NA\"\n",
    "\n",
    "ds = ds0.isel(i=slice(420,700), j=slice(4900,5300), i_g=slice(420,700), j_g=slice(4900,5300))\n",
    "dr = dr0.isel(i=slice(420,700), j=slice(4900,5300))\n",
    "\n",
    "dr.coords[\"XC\"] = ds.XC\n",
    "dr.coords[\"YC\"] = ds.YC\n",
    "dr = dr.rename({\"XC\": \"lon\", \"YC\": \"lat\"})\n",
    "\n",
    "ds_out = xr.Dataset(\n",
    "    {\n",
    "        \"lat\": ([\"lat\"], np.arange(34, 45, 0.04)),\n",
    "        \"lon\": ([\"lon\"], np.arange(-21,-10, 0.04)),\n",
    "    }\n",
    ")\n",
    "regridder = xe.Regridder(dr, ds_out, \"bilinear\")\n",
    "ds_out = regridder(dr)\n",
    "del ds, dr"
   ]
  },
  {
   "cell_type": "markdown",
   "id": "e89c5b54",
   "metadata": {},
   "source": [
    "# Kuroshio Extension"
   ]
  },
  {
   "cell_type": "code",
   "execution_count": null,
   "id": "e0350a03",
   "metadata": {},
   "outputs": [],
   "source": [
    "name = \"Kuroshio Extension\"\n",
    "name_res = \"KE\"\n",
    "\n",
    "ds = ds0.isel(i=slice(4500,4800), j=slice(4700,5200), i_g=slice(4500,4800), j_g=slice(4700,5200))\n",
    "dr = dr0.isel(i=slice(4500,4800), j=slice(4700,5200))\n",
    "\n",
    "dr.coords[\"XC\"] = ds.XC\n",
    "dr.coords[\"YC\"] = ds.YC\n",
    "dr = dr.rename({\"XC\": \"lon\", \"YC\": \"lat\"})\n",
    "\n",
    "ds_out = xr.Dataset(\n",
    "    {\n",
    "        \"lat\": ([\"lat\"], np.arange(30, 40, 0.04)),\n",
    "        \"lon\": ([\"lon\"], np.arange(150,160, 0.04)),\n",
    "    }\n",
    ")\n",
    "regridder = xe.Regridder(dr, ds_out, \"bilinear\")\n",
    "ds_out = regridder(dr)\n",
    "del ds, dr"
   ]
  },
  {
   "cell_type": "markdown",
   "id": "73729b22",
   "metadata": {},
   "source": [
    "# North Pacific"
   ]
  },
  {
   "cell_type": "code",
   "execution_count": null,
   "id": "08a8279e",
   "metadata": {},
   "outputs": [],
   "source": [
    "name = \"North Pacific\"\n",
    "name_res = \"NP\"\n",
    "\n",
    "ds = ds0.isel(i=slice(6300,6600), j=slice(4700,5200), i_g=slice(6300,6600), j_g=slice(4700,5200))\n",
    "dr = dr0.isel(i=slice(6300,6600), j=slice(4700,5200))\n",
    "\n",
    "dr.coords[\"XC\"] = ds.XC\n",
    "dr.coords[\"YC\"] = ds.YC\n",
    "dr = dr.rename({\"XC\": \"lon\", \"YC\": \"lat\"})\n",
    "\n",
    "ds_out = xr.Dataset(\n",
    "    {\n",
    "        \"lat\": ([\"lat\"], np.arange(30, 40, 0.04)),\n",
    "        \"lon\": ([\"lon\"], np.arange(-135,-125, 0.04)),\n",
    "    }\n",
    ")\n",
    "regridder = xe.Regridder(dr, ds_out, \"bilinear\")\n",
    "ds_out = regridder(dr)\n",
    "del ds, dr"
   ]
  },
  {
   "cell_type": "markdown",
   "id": "c9d3bcc0",
   "metadata": {},
   "source": [
    " # Antarctic Circumpolar Current"
   ]
  },
  {
   "cell_type": "code",
   "execution_count": null,
   "id": "5b7c7a22",
   "metadata": {},
   "outputs": [],
   "source": [
    "name = \"Antartic Circumpolar Current\"\n",
    "name_res = \"ACC\"\n",
    "\n",
    "ds = ds.isel(i=slice(2000,3000), j=slice(2000,3000), i_g=slice(2000,3000), j_g=slice(2000,3000))\n",
    "dr = dr.isel(i=slice(2000,3000), j=slice(2000,3000))\n",
    "\n",
    "dr.coords[\"XC\"] = ds.XC\n",
    "dr.coords[\"YC\"] = ds.YC\n",
    "dr = dr.rename({\"XC\": \"lon\", \"YC\": \"lat\"})\n",
    "\n",
    "ds_out = xr.Dataset(\n",
    "    {\n",
    "        \"lat\": ([\"lat\"], np.arange(-50, -40, 0.04)),\n",
    "        \"lon\": ([\"lon\"], np.arange(55,65, 0.04)),\n",
    "    }\n",
    ")\n",
    "regridder = xe.Regridder(dr, ds_out, \"bilinear\")\n",
    "ds_out = regridder(dr)\n",
    "del ds, dr"
   ]
  },
  {
   "cell_type": "markdown",
   "id": "47ac660e",
   "metadata": {},
   "source": [
    "# ===============================\n",
    "# From here, start the spectral analysis\n",
    "# ==============================="
   ]
  },
  {
   "cell_type": "code",
   "execution_count": null,
   "id": "5789cd6e",
   "metadata": {},
   "outputs": [
    {
     "name": "stderr",
     "output_type": "stream",
     "text": [
      "2022-11-20 21:09:54,566 - distributed.utils_perf - WARNING - full garbage collections took 10% CPU time recently (threshold: 10%)\n",
      "2022-11-20 21:10:04,043 - distributed.utils_perf - WARNING - full garbage collections took 10% CPU time recently (threshold: 10%)\n",
      "2022-11-20 21:10:06,425 - distributed.utils_perf - WARNING - full garbage collections took 10% CPU time recently (threshold: 10%)\n",
      "2022-11-20 21:10:20,273 - distributed.utils_perf - WARNING - full garbage collections took 10% CPU time recently (threshold: 10%)\n",
      "2022-11-20 21:10:29,136 - distributed.utils_perf - WARNING - full garbage collections took 10% CPU time recently (threshold: 10%)\n"
     ]
    }
   ],
   "source": [
    "phike = signal.detrend(ds_out.ke,axis=0,type=\"linear\")\n",
    "phike = signal.detrend(phike,axis=1,type=\"linear\")\n",
    "phike = signal.detrend(phike,axis=2,type=\"linear\")\n",
    "phizeta = signal.detrend(ds_out.vorticity,axis=0,type=\"linear\")\n",
    "phizeta = signal.detrend(phizeta,axis=2,type=\"linear\")\n",
    "phizeta = signal.detrend(phizeta,axis=2,type=\"linear\")\n",
    "\n",
    "dt, dx, dy = (1, 0.04*110, 0.04*110)\n",
    "nt, nx, ny = ds_out.ke.shape\n",
    "Lt, Lx, Ly = (dt*nt, dx*nx, dy*ny)\n",
    "\n",
    "win1 =  np.hanning(nt)\n",
    "win1 =  (nt/(win1**2).sum())*win1\n",
    "win2 =  np.hanning(nx)\n",
    "win2 =  (nx/(win2**2).sum())*win2\n",
    "win3 =  np.hanning(ny)\n",
    "win3 =  (ny/(win3**2).sum())*win3\n",
    "\n",
    "win = win2[np.newaxis]*win1[...,np.newaxis]\n",
    "win = win[...,np.newaxis]*win3[np.newaxis,np.newaxis]\n",
    "\n",
    "phike = phike*win\n",
    "phizeta = phizeta*win\n",
    "\n",
    "dkt, dkx, dky = (1/Lt, 1/Lx, 1/Ly)\n",
    "\n",
    "kt = np.fft.rfftfreq(nt, d=dt)\n",
    "kx = np.fft.rfftfreq(nx, d=dx)\n",
    "ky = np.fft.rfftfreq(ny, d=dy)\n",
    "\n",
    "phike = np.fft.fftn(phike,axes=(2,1,0))\n",
    "phizeta = np.fft.fftn(phizeta,axes=(2,1,0))\n",
    "\n",
    "specke = (phike*phike.conj()).real/(dkt*dkx*dky)/(nt*nx*ny)**2\n",
    "speczeta = (phizeta*phizeta.conj()).real/(dkt*dkx*dky)/(nt*nx*ny)**2\n",
    "\n",
    "specke = specke[:int(np.floor(nt/2)+1),:int(np.floor(ny/2)+1),:int(np.floor(nx/2))+1]\n",
    "specke[1:int(np.floor(nt/2)),1:int(np.floor(ny/2)),1:int(np.floor(nx/2))] = \\\n",
    "                 8*specke[1:int(np.floor(nt/2)),1:int(np.floor(ny/2)),1:int(np.floor(nx/2))]\n",
    "\n",
    "speczeta = speczeta[:int(np.floor(nt/2)+1),:int(np.floor(ny/2)+1),:int(np.floor(nx/2))+1]\n",
    "speczeta[1:int(np.floor(nt/2)),1:int(np.floor(ny/2)),1:int(np.floor(nx/2))] = \\\n",
    "                 8*speczeta[1:int(np.floor(nt/2)),1:int(np.floor(ny/2)),1:int(np.floor(nx/2))]\n",
    "\n",
    "del phike, phizeta, win\n",
    "\n",
    "kx1, ky1 = np.meshgrid(kx,ky)\n",
    "kxy = np.sqrt(kx1**2+ky1**2)\n",
    "dkr = np.sqrt(dkx**2 + dky**2)\n",
    "if kx.max()>ky.max():\n",
    "    kmax = ky.max()\n",
    "else:\n",
    "    kmax = kx.max() \n",
    "kr =  np.arange(dkr/2.,kmax+dkr/2.,dkr) \n",
    "Erke = np.zeros((kr.size,kt.size))\n",
    "Erzeta = np.zeros((kr.size,kt.size))\n",
    "\n",
    "def compute_Er(spec,kxy,kr,dkr):\n",
    "    fkr = (kxy>=kr-dkr/2) & (kxy<=kr+dkr/2)        \n",
    "    dth = np.pi / (fkr.sum()-1)\n",
    "    Er = (spec*fkr*kxy*dth).sum(axis=(1,2)) \n",
    "    return Er\n",
    "\n",
    "for i in range(kr.size):\n",
    "    Erke[i,:] = compute_Er(specke,kxy,kr[i],dkr)    \n",
    "for i in range(kr.size):\n",
    "    Erzeta[i,:] = compute_Er(speczeta,kxy,kr[i],dkr)\n",
    "\n",
    "del specke, speczeta, kxy \n",
    "\n",
    "kkt, kkr = np.meshgrid(kt,kr)\n",
    "Erke=Erke*kkt*kkr\n",
    "Erzeta=Erzeta*kkt*kkr"
   ]
  },
  {
   "cell_type": "code",
   "execution_count": null,
   "id": "665b9f95",
   "metadata": {},
   "outputs": [],
   "source": [
    "fig, (ax1) = plt.subplots(1,1, figsize=(8,7), constrained_layout=True)\n",
    "\n",
    "ax1.loglog()\n",
    "az1=ax1.pcolormesh(kkr,kkt,Erke,norm=colors.LogNorm(vmin=1e-5,vmax=5e-2),cmap=\"rainbow\")\n",
    "ax1.set_xlim(1e-3,1e-1)\n",
    "ax1.set_ylim(1e-3,kt.max())\n",
    "cb = plt.colorbar(az1, ax=ax1)\n",
    "ax1.set_title(str(name)+\" \\n $\\omega$-k spectrum for KE 2012 (\"+str(season_title)+\")\", fontsize=18)\n",
    "ax1.set_xlabel(\"horizontal wavenumber [cpkm]\", fontweight=\"bold\")\n",
    "ax1.set_ylabel(\"Frequency [cph]\", fontweight=\"bold\")\n",
    "ax1.tick_params(axis=\"both\", labelsize=16)\n",
    "cb.set_label(label='', size='large', weight='bold')\n",
    "\n",
    "plt.savefig(\"isospectrum_2012_\"+str(name_res)+\"_ke_\"+str(season)+\".png\", dpi=200)"
   ]
  },
  {
   "cell_type": "code",
   "execution_count": null,
   "id": "4ae9f80f",
   "metadata": {},
   "outputs": [],
   "source": [
    "fig, (ax2) = plt.subplots(1,1, figsize=(8,7), constrained_layout=True)\n",
    "\n",
    "ax2.loglog()\n",
    "az2=ax2.pcolormesh(kkr,kkt,Erzeta,norm=colors.LogNorm(vmin=1e-5,vmax=5e-1),cmap=\"turbo\")\n",
    "ax2.set_xlim(1e-3,1e-1)\n",
    "ax2.set_ylim(1e-3,kt.max())\n",
    "plt.colorbar(az2, ax=ax2)\n",
    "ax2.set_title(str(name)+\" \\n $\\omega$-k spectrum for Ro 2012 (\"+str(season_title)+\")\", fontsize=18)\n",
    "ax1.set_ylabel(\"Frequency [cph]\", fontweight=\"bold\")\n",
    "ax2.set_xlabel(\"horizontal wavenumber [cpkm]\", fontweight=\"bold\")\n",
    "ax2.tick_params(axis=\"both\", labelsize=16)\n",
    "\n",
    "plt.savefig(\"isospectrum_2012_\"+str(name_res)+\"_ro_\"+str(season)+\".png\", dpi=200)"
   ]
  }
 ],
 "metadata": {
  "kernelspec": {
   "display_name": "Python 3 (ipykernel)",
   "language": "python",
   "name": "python3"
  },
  "language_info": {
   "codemirror_mode": {
    "name": "ipython",
    "version": 3
   },
   "file_extension": ".py",
   "mimetype": "text/x-python",
   "name": "python",
   "nbconvert_exporter": "python",
   "pygments_lexer": "ipython3",
   "version": "3.9.12"
  }
 },
 "nbformat": 4,
 "nbformat_minor": 5
}
